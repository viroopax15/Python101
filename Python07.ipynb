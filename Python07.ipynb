{
  "nbformat": 4,
  "nbformat_minor": 0,
  "metadata": {
    "colab": {
      "name": "Python07.ipynb",
      "provenance": [],
      "collapsed_sections": [],
      "toc_visible": true
    },
    "kernelspec": {
      "name": "python3",
      "display_name": "Python 3"
    }
  },
  "cells": [
    {
      "cell_type": "markdown",
      "metadata": {
        "id": "wg9hFWlA7QHU"
      },
      "source": [
        "# Lecture 07: Data Repositories and Data Split in Machine Learning\n",
        "By the end of this lecture, you will be able to:\n",
        "1. Comprehend some machine learning data-repository jargons\n",
        "2. Describe the training and testing steps in machine learning\n",
        "3. Describe repeated random sampling in machine learning\n"
      ]
    },
    {
      "cell_type": "markdown",
      "metadata": {
        "id": "e7BBYecHWNed"
      },
      "source": [
        "# 7.1. Presentation\n",
        "\n",
        "---\n",
        "\n"
      ]
    },
    {
      "cell_type": "markdown",
      "metadata": {
        "id": "iPZc6TxrfcoP"
      },
      "source": [
        "### 7.1.1. Presentation - Estimation Problems\n",
        "\n",
        "> **Supervised machine learning techniques:**\n",
        "> * You employ some information/data, so-called input data, to estimate or predict other information/data, so-called target or output data. \n",
        "\n",
        "> **Major types of estimation/supervised techniques:**\n",
        "> *   Classifiers:\n",
        " * Address problems with categorical outputs such as classes or integers.\n",
        " *  Example: Estimation of crack types in pavements. \n",
        "> *   Regressors:\n",
        " * Address problems with real output values. \n",
        " *  Example: Estimation of housing prices. \n",
        "\n"
      ]
    },
    {
      "cell_type": "markdown",
      "metadata": {
        "id": "lLort3c3s-XV"
      },
      "source": [
        "### 7.1.2. Presentation - Data Jargons in Machine Learning\n",
        "\n",
        "> <img src=\t\"https://i.ibb.co/rt0TMVr/7-1.png\" width=\"500\"/>"
      ]
    },
    {
      "cell_type": "markdown",
      "metadata": {
        "id": "tMBqP8riu4i4"
      },
      "source": [
        "### 7.1.3. Presentation - Training-Testing Split\n",
        "\n",
        "> **Randome division:**\n",
        "\n",
        "> <img src=\t\"\thttps://i.ibb.co/5rpv84n/7-2.png\t\"\twidth=\"500\"/>\n",
        "\n",
        "> **Ratio of testing (RTT = 20%)**\n",
        "> **Accuracy/error measurements:**\n",
        "> * Accuracy percentage\n",
        "> * Mean squared error (MSE)\n",
        "> * Mean absolute error (MAE)"
      ]
    },
    {
      "cell_type": "markdown",
      "metadata": {
        "id": "Gj_jm7_ysrWH"
      },
      "source": [
        "### 7.1.4. Presentation - Statistical Bias\n",
        "\n",
        "> **Repeated random sampling (RRS)**\n",
        "\n",
        "> <img src=\t\"\thttps://i.ibb.co/TrRGVF9/7-3.png\t\"\twidth=\"500\"/>\n",
        "\n",
        "> **Multiple RTTS and RRSs:**\n",
        "\n",
        "> <img src=\t\"\thttps://i.ibb.co/kHgp9Gs/7-4.png\t\"\twidth=\"500\"/>"
      ]
    },
    {
      "cell_type": "markdown",
      "metadata": {
        "id": "RDmUm9jBWUwi"
      },
      "source": [
        "# 7.2. Import Some Necessary Libraries\n",
        "\n",
        "---\n",
        "\n"
      ]
    },
    {
      "cell_type": "code",
      "metadata": {
        "id": "p23BFbW6jVVR",
        "cellView": "form"
      },
      "source": [
        "#@title Import\n",
        "import numpy  as np\n",
        "import pandas as pd\n",
        "\n",
        "import sklearn.model_selection as ms\n",
        "import sklearn.preprocessing   as pg"
      ],
      "execution_count": null,
      "outputs": []
    },
    {
      "cell_type": "markdown",
      "metadata": {
        "id": "5bb5PHLqW2SY"
      },
      "source": [
        "# 7.3. Train-Test Split\n",
        "\n",
        "---\n",
        "\n"
      ]
    },
    {
      "cell_type": "code",
      "metadata": {
        "id": "iLJndjejjYuh",
        "cellView": "form"
      },
      "source": [
        "#@title Load some data\n",
        "data = pd.read_csv('/content/sample_data/california_housing_train.csv')\n",
        "# Let's assume that data is not the training data but the whole data!\n",
        "\n",
        "datain = data.iloc[:,:-1]\n",
        "dataou = data.iloc[:,-1:]"
      ],
      "execution_count": null,
      "outputs": []
    },
    {
      "cell_type": "code",
      "metadata": {
        "id": "VnoG4mhlg2DW",
        "cellView": "form"
      },
      "source": [
        "#@title Split function\n",
        "\n",
        "datain_tr, datain_te, dataou_tr, dataou_te = ms.train_test_split(datain, dataou, test_size = 0.2, random_state = 42)\n",
        "\n",
        "print(\"Train | Inputs  | Top 5 Rows: \\n\\n{}\\n\".format( datain_tr.head() ) )\n",
        "print('---------------')\n",
        "print(\"Train | Outputs | Top 5 Rows: \\n\\n{}\\n\".format( dataou_tr.head() ) )\n",
        "print('---------------')\n",
        "print(\"Test  | Inputs  | Top 5 Rows: \\n\\n{}\\n\".format( datain_te.head() ) )\n",
        "print('---------------')\n",
        "print(\"Test  | Outputs | Top 5 Rows: \\n\\n{}\\n\".format( dataou_te.head() ) )\n",
        "print('---------------')"
      ],
      "execution_count": null,
      "outputs": []
    },
    {
      "cell_type": "code",
      "metadata": {
        "id": "YUy47E5l2dcl",
        "cellView": "form"
      },
      "source": [
        "#@title Example with multiple RTTs and RRSs\n",
        "\n",
        "rtt_list  = [0.1, 0.2, 0.3, 0.4, 0.5]\n",
        "\n",
        "rtt_range = range( len(rtt_list) ) \n",
        "rrs_range = range(25)\n",
        "\n",
        "data = np.empty( ( len(rtt_range) , len(rrs_range) ), dtype = dict)\n",
        "\n",
        "for rtt in rtt_range:\n",
        "  for rrs in rrs_range:\n",
        "\n",
        "    datain_tr, datain_te, dataou_tr, dataou_te = ms.train_test_split(datain, dataou, test_size = rtt_list[rtt], random_state = 42)\n",
        "\n",
        "    data_dictionary = {'datain_tr':datain_tr, 'dataou_tr':dataou_tr, 'datain_te':datain_te, 'dataou_te':dataou_te}\n",
        "\n",
        "    data[rtt,rrs]   = data_dictionary\n",
        "\n",
        "print(\"Dictionary corresponding to RTT # 2 and RRS # 6 \\n\\n{}\\n\".format( data[2,6] ) )"
      ],
      "execution_count": null,
      "outputs": []
    },
    {
      "cell_type": "markdown",
      "metadata": {
        "id": "ISl4yRGv3WPF"
      },
      "source": [
        "# Lecture 07: Data Repositories and Data Split  in Machine Learning\n",
        "In this lecture, you learned about:\n",
        "1. Some machine learning data-repository jargons\n",
        "2. Training and testing steps in machine learning\n",
        "3. Repeated random sampling in machine learning\n",
        "\n",
        "***In the next lecture, we will learn about Data Processing and Calibrations in Machine Learning***"
      ]
    }
  ]
}