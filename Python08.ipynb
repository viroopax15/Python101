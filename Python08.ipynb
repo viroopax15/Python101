{
  "nbformat": 4,
  "nbformat_minor": 0,
  "metadata": {
    "colab": {
      "name": "Python08.ipynb",
      "provenance": [],
      "collapsed_sections": [],
      "toc_visible": true
    },
    "kernelspec": {
      "name": "python3",
      "display_name": "Python 3"
    }
  },
  "cells": [
    {
      "cell_type": "markdown",
      "metadata": {
        "id": "wg9hFWlA7QHU"
      },
      "source": [
        "# Lecture 08: Data Processing and Calibration in Machine Learning \n",
        "By the end of this lecture, you will be able to:\n",
        "1. Calibrate the data for machine learning\n",
        "2. Process the data for regression and classification problems\n"
      ]
    },
    {
      "cell_type": "markdown",
      "metadata": {
        "id": "Mlu7rK437cTa"
      },
      "source": [
        "# 8.1. Import Libraries\n",
        "\n",
        "---\n",
        "\n"
      ]
    },
    {
      "cell_type": "code",
      "metadata": {
        "id": "p23BFbW6jVVR",
        "cellView": "form"
      },
      "source": [
        "#@title Import\n",
        "import numpy  as np\n",
        "import pandas as pd\n",
        "\n",
        "import sklearn.preprocessing as pg\n",
        "import keras.utils           as ku "
      ],
      "execution_count": null,
      "outputs": []
    },
    {
      "cell_type": "markdown",
      "metadata": {
        "id": "dVxU_hYB7kDg"
      },
      "source": [
        "# 8.2. Calibration Necessity\n",
        "\n",
        "---\n",
        "\n"
      ]
    },
    {
      "cell_type": "code",
      "metadata": {
        "id": "fFWw1A0S6SkU",
        "cellView": "form"
      },
      "source": [
        "#@title Load some examples \n",
        "data_tr   = pd.read_csv('/content/sample_data/california_housing_train.csv')\n",
        "data_te   = pd.read_csv('/content/sample_data/california_housing_test.csv')\n",
        "\n",
        "data_tr.head()\n"
      ],
      "execution_count": null,
      "outputs": []
    },
    {
      "cell_type": "markdown",
      "metadata": {
        "id": "QUCntmFf8Mny"
      },
      "source": [
        "# 8.3. Data Processing\n",
        "\n",
        "---\n",
        "\n"
      ]
    },
    {
      "cell_type": "markdown",
      "metadata": {
        "id": "QMkp6BGW-ZV-"
      },
      "source": [
        "### 8.3.1. Data Processing - Regression Problems "
      ]
    },
    {
      "cell_type": "code",
      "metadata": {
        "id": "eWhiu3Bq_Jwt",
        "cellView": "form"
      },
      "source": [
        "#@title Load some regression data and seperate inputs and outputs\n",
        "data_tr   = pd.read_csv('/content/sample_data/california_housing_train.csv')\n",
        "data_te   = pd.read_csv('/content/sample_data/california_housing_test.csv')\n",
        "\n",
        "datain_tr = data_tr.iloc[:,:-1]\n",
        "dataou_tr = data_tr.iloc[:,-1:]\n",
        "\n",
        "datain_te = data_te.iloc[:,:-1]\n",
        "dataou_te = data_te.iloc[:,-1:]"
      ],
      "execution_count": null,
      "outputs": []
    },
    {
      "cell_type": "code",
      "metadata": {
        "id": "KPzsE52ZKQUj",
        "cellView": "form"
      },
      "source": [
        "#@title Calibration\n",
        "\n",
        "# Fit input function with training input\n",
        "fun_calibration_in = pg.MinMaxScaler( feature_range=(0,1) )\n",
        "fun_calibration_in.fit(datain_tr)\n",
        "\n",
        "# Fit output function with training outputs\n",
        "fun_calibration_ou = pg.MinMaxScaler( feature_range=(0,1) )\n",
        "fun_calibration_ou.fit(dataou_tr)\n",
        "\n",
        "# Calibrate training and testing inputs \n",
        "datain_tr_calibrated = fun_calibration_in.transform(datain_tr)\n",
        "datain_te_calibrated = fun_calibration_in.transform(datain_te)\n",
        "\n",
        "# Calibrate training and testing outputs\n",
        "dataou_tr_calibrated = fun_calibration_ou.transform(dataou_tr)\n",
        "dataou_te_calibrated = fun_calibration_ou.transform(dataou_te)\n",
        "\n",
        "# Range of data in testing might have rang violation!"
      ],
      "execution_count": null,
      "outputs": []
    },
    {
      "cell_type": "markdown",
      "metadata": {
        "id": "wVXDwNhH-2pI"
      },
      "source": [
        "### 8.3.2. Data Processing - Classification Problems \n",
        "> **MNIST data:**\n",
        "\n",
        "> <img src=\t\"\thttps://i.ibb.co/4S6xP3m/8-1.png\t\"\twidth=\"500\"/>\n",
        "\n",
        "[Image link](https://www.researchgate.net/profile/Steven_Young11/publication/306056875/figure/fig1/AS:393921575309346@1470929630835/Example-images-from-the-MNIST-dataset.png)"
      ]
    },
    {
      "cell_type": "code",
      "metadata": {
        "id": "ytmQblvh--MC",
        "cellView": "form"
      },
      "source": [
        "#@title Load MNIST classification data and split inputs and outputs \n",
        "data_tr   = pd.read_csv('/content/sample_data/mnist_train_small.csv')\n",
        "data_te   = pd.read_csv('/content/sample_data/mnist_test.csv')\n",
        "\n",
        "datain_tr = data_tr.iloc[:,1:]\n",
        "dataou_tr = data_tr.iloc[:,0:1]\n",
        "\n",
        "datain_te = data_te.iloc[:,1:]\n",
        "dataou_te = data_te.iloc[:,0:1]\n",
        "\n",
        "print(\"Training inputs shape: \\n{}\\n\".format(datain_tr.values.shape) )\n",
        "print(\"Testing  inputs shape: \\n{}\\n\".format(datain_te.values.shape) )\n",
        "\n",
        "print(\"Training outputs: \\n{}\\n\".format(dataou_tr.values.transpose()) )\n",
        "print(\"Testing  outputs: \\n{}\\n\".format(dataou_te.values.transpose()) )\n"
      ],
      "execution_count": null,
      "outputs": []
    },
    {
      "cell_type": "code",
      "metadata": {
        "id": "4ETnTB6T-1qx",
        "cellView": "form"
      },
      "source": [
        "#@title Calibration\n",
        "fun_calibration_in = pg.MinMaxScaler( feature_range=(0,1) )\n",
        "fun_calibration_in.fit(datain_tr)\n",
        "\n",
        "#fun_calibration_ou = pg.MinMaxScaler(feature_range=(0,1))\n",
        "#fun_calibration_ou.fit(dataou_tr)\n",
        "\n",
        "datain_tr_calibrated = fun_calibration_in.transform(datain_tr)\n",
        "datain_te_calibrated = fun_calibration_in.transform(datain_te)\n",
        "\n",
        "#dataou_tr_calibrated = fun_calibration_ou.transform(dataou_tr)\n",
        "#dataou_te_calibrated = fun_calibration_ou.transform(dataou_te)\n",
        "\n",
        "dataou_tr_categorical = ku.to_categorical(dataou_tr)\n",
        "dataou_te_categorical = ku.to_categorical(dataou_te)\n",
        "\n",
        "print(\"Training binary outputs: \\n{}\\n\\nShape:\\n{}\\n\".format( dataou_tr_categorical,dataou_tr_categorical.shape ) )\n",
        "print(\"Testing  binary outputs: \\n{}\\n\\nShape:\\n{}\\n\".format( dataou_te_categorical,dataou_te_categorical.shape ) )\n",
        "\n"
      ],
      "execution_count": null,
      "outputs": []
    },
    {
      "cell_type": "markdown",
      "metadata": {
        "id": "ISl4yRGv3WPF"
      },
      "source": [
        "# Lecture 08: Data Processing and Calibrations in Machine Learning \n",
        "In this lecture, you learned about:\n",
        "1. How to calibrate the data for machine learning\n",
        "2. How to process the data for regression and classification problems\n",
        "\n",
        "***In the next lecture, we will go over a Brief Introduction to Neural Networks***"
      ]
    }
  ]
}