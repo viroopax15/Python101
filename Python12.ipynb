{
  "nbformat": 4,
  "nbformat_minor": 0,
  "metadata": {
    "colab": {
      "name": "Python12.ipynb",
      "provenance": [],
      "collapsed_sections": [],
      "toc_visible": true
    },
    "kernelspec": {
      "name": "python3",
      "display_name": "Python 3"
    }
  },
  "cells": [
    {
      "cell_type": "markdown",
      "metadata": {
        "id": "xug_Z7xDduJr"
      },
      "source": [
        "# Lecture 12: Increase Our Python Expertise and Knowledge on Our Own!\n",
        "By the end of this lecture, you will be able to:\n",
        "1. Describe how you can explore Python and its libraries online\n",
        "2. Describe how you can teach Python to yourself \n"
      ]
    },
    {
      "cell_type": "code",
      "metadata": {
        "id": "KE80IOwRdt6K",
        "cellView": "form"
      },
      "source": [
        "#@title Search your Python problem\n",
        "\n",
        "# Search what you want to do online\n",
        "# Look into the very first links "
      ],
      "execution_count": null,
      "outputs": []
    },
    {
      "cell_type": "code",
      "metadata": {
        "id": "r_15xgCTW8Xk",
        "cellView": "form"
      },
      "source": [
        "#@title Example 01\n",
        "\n",
        "# Search \"contours matplotlib\"\n",
        "# https://matplotlib.org/3.1.1/api/_as_gen/matplotlib.pyplot.contour.html"
      ],
      "execution_count": null,
      "outputs": []
    },
    {
      "cell_type": "code",
      "metadata": {
        "id": "Aai71kDmdqe5",
        "cellView": "form"
      },
      "source": [
        "#@title Try and study the codes here!\n",
        "\n",
        "import matplotlib.pyplot as plt\n",
        "import numpy as np\n",
        "\n",
        "x = np.arange(1, 10)\n",
        "y = x.reshape(-1, 1)\n",
        "h = x * y\n",
        "\n",
        "cs = plt.contourf(h, levels=[10, 30, 50],\n",
        "    colors=['#808080', '#A0A0A0', '#C0C0C0'], extend='both')\n",
        "cs.cmap.set_over('red')\n",
        "cs.cmap.set_under('blue')\n",
        "cs.changed()"
      ],
      "execution_count": null,
      "outputs": []
    },
    {
      "cell_type": "code",
      "metadata": {
        "id": "qxzauGoZXFWQ",
        "cellView": "form"
      },
      "source": [
        "#@title Example 02\n",
        "\n",
        "# Search \"tensorflow keras CNN example\"\n",
        "# https://victorzhou.com/blog/keras-cnn-tutorial/"
      ],
      "execution_count": null,
      "outputs": []
    },
    {
      "cell_type": "code",
      "metadata": {
        "id": "wmUCJK2ngTwO",
        "cellView": "form"
      },
      "source": [
        "#@title Try and study the codes here!\n",
        "\n",
        "import numpy as np\n",
        "import mnist\n",
        "from tensorflow.keras.models import Sequential\n",
        "from tensorflow.keras.layers import Conv2D, MaxPooling2D, Dense, Flatten\n",
        "from tensorflow.keras.utils import to_categorical\n",
        "\n",
        "train_images = mnist.train_images()\n",
        "train_labels = mnist.train_labels()\n",
        "test_images = mnist.test_images()\n",
        "test_labels = mnist.test_labels()\n",
        "\n",
        "# Normalize the images.\n",
        "train_images = (train_images / 255) - 0.5\n",
        "test_images = (test_images / 255) - 0.5\n",
        "\n",
        "# Reshape the images.\n",
        "train_images = np.expand_dims(train_images, axis=3)\n",
        "test_images = np.expand_dims(test_images, axis=3)\n",
        "\n",
        "num_filters = 8\n",
        "filter_size = 3\n",
        "pool_size = 2\n",
        "\n",
        "# Build the model.\n",
        "model = Sequential([\n",
        "  Conv2D(num_filters, filter_size, input_shape=(28, 28, 1)),\n",
        "  MaxPooling2D(pool_size=pool_size),\n",
        "  Flatten(),\n",
        "  Dense(10, activation='softmax'),\n",
        "])\n",
        "\n",
        "# Compile the model.\n",
        "model.compile(\n",
        "  'adam',\n",
        "  loss='categorical_crossentropy',\n",
        "  metrics=['accuracy'],\n",
        ")\n",
        "\n",
        "# Train the model.\n",
        "model.fit(\n",
        "  train_images,\n",
        "  to_categorical(train_labels),\n",
        "  epochs=3,\n",
        "  validation_data=(test_images, to_categorical(test_labels)),\n",
        ")\n",
        "\n",
        "# Save the model to disk.\n",
        "model.save_weights('cnn.h5')\n",
        "\n",
        "# Load the model from disk later using:\n",
        "# model.load_weights('cnn.h5')\n",
        "\n",
        "# Predict on the first 5 test images.\n",
        "predictions = model.predict(test_images[:5])\n",
        "\n",
        "# Print our model's predictions.\n",
        "print(np.argmax(predictions, axis=1)) # [7, 2, 1, 0, 4]\n",
        "\n",
        "# Check our predictions against the ground truths.\n",
        "print(test_labels[:5]) # [7, 2, 1, 0, 4]"
      ],
      "execution_count": null,
      "outputs": []
    },
    {
      "cell_type": "code",
      "metadata": {
        "id": "S8vhXi3wg5Ox",
        "cellView": "form"
      },
      "source": [
        "#@title Install prerequisite packages\n",
        "!pip install mnist"
      ],
      "execution_count": null,
      "outputs": []
    },
    {
      "cell_type": "markdown",
      "metadata": {
        "id": "mfcDbAgFexvh"
      },
      "source": [
        "# Lecture 12: Hit the Road on Your Own!\n",
        "In this lecture, you learned about:\n",
        "1. How to explore Python and its libraries online\n",
        "2. How to teach Python to yourself \n",
        "\n",
        "***Congratulations! You are now a Pythonist!***\n"
      ]
    }
  ]
}