{
  "nbformat": 4,
  "nbformat_minor": 0,
  "metadata": {
    "colab": {
      "name": "Python05.ipynb",
      "provenance": [],
      "collapsed_sections": [],
      "toc_visible": true
    },
    "kernelspec": {
      "name": "python3",
      "display_name": "Python 3"
    }
  },
  "cells": [
    {
      "cell_type": "markdown",
      "metadata": {
        "id": "wg9hFWlA7QHU"
      },
      "source": [
        "# Lecture 05: Numpy and Pandas for Data Processing\n",
        "By the end of this lecture, you will be able to:\n",
        "1. Import Numpy and Pandas in Python\n",
        "2. Implement Numpy and Pandas to some extent\n",
        "3. Load and save data in Python using Numpy"
      ]
    },
    {
      "cell_type": "markdown",
      "metadata": {
        "id": "UkW1ssxtymmk"
      },
      "source": [
        "# 5.1. Import Libraries\n",
        "\n",
        "---\n",
        "\n"
      ]
    },
    {
      "cell_type": "code",
      "metadata": {
        "id": "XGALV8J9PPYe",
        "cellView": "form"
      },
      "source": [
        "#@title Import numpy and pandas \n",
        "import numpy as np\n",
        "import pandas as pd"
      ],
      "execution_count": null,
      "outputs": []
    },
    {
      "cell_type": "markdown",
      "metadata": {
        "id": "HWo52sQtysXP"
      },
      "source": [
        "# 5.2. Classes/Methods, Functions, and Attributes\n",
        "\n",
        "---\n",
        "\n"
      ]
    },
    {
      "cell_type": "code",
      "metadata": {
        "id": "wSxde1_3S2MP",
        "cellView": "form"
      },
      "source": [
        "#@title Examples\n",
        "np.abs()\n",
        "np.ndarray.\n",
        "pd.read_csv('/content/sample_data/california_housing_train.csv')"
      ],
      "execution_count": null,
      "outputs": []
    },
    {
      "cell_type": "markdown",
      "metadata": {
        "id": "i9Uxtz-P02Gm"
      },
      "source": [
        "# 5.3. Numpy\n",
        "\n",
        "---\n",
        "\n"
      ]
    },
    {
      "cell_type": "markdown",
      "metadata": {
        "id": "t4bPgNjZ257z"
      },
      "source": [
        "### 5.3.1. Numpy - Popular Functions and Attributes "
      ]
    },
    {
      "cell_type": "code",
      "metadata": {
        "id": "QVRJaR5L8tvo",
        "cellView": "form"
      },
      "source": [
        "#@title Examples\n",
        "print(\"Numpy built-in function  'floor' : \", np.floor(3.6))\n",
        "print(\"Numpy built-in function  'ceil'  : \", np.ceil(3.6))\n",
        "print(\"Numpy built-in function  'abs'   : \", np.abs(-3.4))\n",
        "print(\"Numpy built-in attribute 'pi'    : \", np.pi)\n",
        "print(\"Numpy built-in function  'sin'   : \", np.sin(np.pi/2))\n",
        "print(\"Numpy built-in function  'cos'   : \", np.cos(np.pi/2))\n",
        "print(\"Numpy built-in function  'exp'   : \", np.exp(2))\n",
        "print(\"Numpy built-in function  'log'   : \", np.log(2))\n",
        "print(\"Numpy built-in function  'log10' : \", np.log10(2))"
      ],
      "execution_count": null,
      "outputs": []
    },
    {
      "cell_type": "markdown",
      "metadata": {
        "id": "-Y9pCFMUzjuQ"
      },
      "source": [
        "### 5.3.2. Numpy - Arrays\n",
        "\n",
        "\n"
      ]
    },
    {
      "cell_type": "code",
      "metadata": {
        "id": "_pKlX8dLWk3t",
        "cellView": "form"
      },
      "source": [
        "#@title Develop arrays/matrices\n",
        "np.random.seed(43)\n",
        "\n",
        "x1      = np.random.rand(4,5)\n",
        "x2      = np.random.rand(5,1)\n",
        "x3      = np.random.rand(4,2)\n",
        "\n",
        "x_empty = np.empty((2,3))\n",
        "x_ones  = np.ones((3,2))\n",
        "x_zeros = np.zeros((2,4))\n",
        "\n",
        "print('x1:      \\n{}\\n'.format(x1) )\n",
        "print('x2:      \\n{}\\n'.format(x2) )\n",
        "print('x3:      \\n{}\\n'.format(x3) )\n",
        "print('x_empty: \\n{}\\n'.format(x_empty) )\n",
        "print('x_ones:  \\n{}\\n'.format(x_ones) )\n",
        "print('x_zeros: \\n{}\\n'.format(x_zeros) )"
      ],
      "execution_count": null,
      "outputs": []
    },
    {
      "cell_type": "markdown",
      "metadata": {
        "id": "r3Wuq6x-z_Yi"
      },
      "source": [
        "### 5.3.3. Numpy - Operations on Arrays\n"
      ]
    },
    {
      "cell_type": "code",
      "metadata": {
        "id": "7xySR3mCBI1y",
        "cellView": "form"
      },
      "source": [
        "#@title Examples\n",
        "x1_log10      = np.log10(x1)\n",
        "x1_shape      = np.shape(x1)\n",
        "x1_min_axis0  = np.min(x1, axis = 0) # axis 0 for horizontal axis\n",
        "x1_max_axis1  = np.max(x1, axis = 1) # axis 1 for vertical   axis\n",
        "x1_transpose  = np.transpose(x1)\n",
        "\n",
        "print( 'x1_log10:      \\n{}\\n'.format(x1_log10) )\n",
        "print( 'x1_shape:      \\n{}\\n'.format(x1_shape) )\n",
        "print( 'x1_min_axis0:  \\n{}\\n'.format(x1_min_axis0) )\n",
        "print( 'x1_max_axis1:  \\n{}\\n'.format(x1_max_axis1) )\n",
        "print( 'x1_transpose:  \\n{}\\n'.format(x1_transpose) )"
      ],
      "execution_count": null,
      "outputs": []
    },
    {
      "cell_type": "markdown",
      "metadata": {
        "id": "7F5g03Ko0YzU"
      },
      "source": [
        "### 5.3.4. Numpy - Arrays' Functions"
      ]
    },
    {
      "cell_type": "code",
      "metadata": {
        "id": "v9RliTmRBgrO",
        "cellView": "form"
      },
      "source": [
        "#@title Examples\n",
        "\n",
        "print( 'x1_shape:      \\n{}\\n'.format(x1.shape) )\n",
        "print( 'x1_min_axis0:  \\n{}\\n'.format(x1.min(axis = 0)) )\n",
        "print( 'x1_max_axis1:  \\n{}\\n'.format(x1.max(axis = 1)) )\n",
        "print( 'x1_transpose:  \\n{}\\n'.format(x1.transpose() ) )"
      ],
      "execution_count": null,
      "outputs": []
    },
    {
      "cell_type": "markdown",
      "metadata": {
        "id": "Bf7CCuO72RCj"
      },
      "source": [
        "### 5.3.5. Numpy - Indexing"
      ]
    },
    {
      "cell_type": "code",
      "metadata": {
        "id": "y-T9as0JUtXr",
        "cellView": "form"
      },
      "source": [
        "#@title Direct indexing\n",
        "\n",
        "print('x1:            \\n{}\\n'.format(x1))\n",
        "\n",
        "print('Example 1:     \\n{}\\n'.format( x1[ [0,3],[1,4] ] ))\n",
        "print('Example 2:     \\n{}\\n'.format( x1[  0:2 ,2     ] ))\n",
        "print('Example 3:     \\n{}\\n'.format( x1[ -3:-1,1:3   ] ))\n",
        "\n",
        "ind = [0,3,2]\n",
        "print('Example 4:     \\n{}\\n'.format( x1[   ind,:     ] ))"
      ],
      "execution_count": null,
      "outputs": []
    },
    {
      "cell_type": "code",
      "metadata": {
        "id": "p_Otadei8Fyw",
        "cellView": "form"
      },
      "source": [
        "#@title Find indices\n",
        "\n",
        "ind_max_axis0   = np.argmax(x1, axis = 0)\n",
        "ind_min_axis1   = np.argmin(x1, axis = 1)\n",
        "ind_where       = np.argwhere(x1[:,0]<=.5)\n",
        "\n",
        "print('Indices of the rows with the maximum value in each column:    \\n{}\\n'.format(ind_max_axis0) )\n",
        "print('Indices of the columns with the maximum value in each row:    \\n{}\\n'.format(ind_max_axis0) )\n",
        "print('Indices of rows with values gearter than 0.5 in column # 0:   \\n{}\\n'.format(ind_where) )\n"
      ],
      "execution_count": null,
      "outputs": []
    },
    {
      "cell_type": "markdown",
      "metadata": {
        "id": "C1nOmPqC5f8a"
      },
      "source": [
        "### 5.3.6. Numpy - Index Assignment"
      ]
    },
    {
      "cell_type": "code",
      "metadata": {
        "id": "M1u-VjXw5otw",
        "cellView": "form"
      },
      "source": [
        "#@title Empty matrix\n",
        "print(x_empty.shape)"
      ],
      "execution_count": null,
      "outputs": []
    },
    {
      "cell_type": "code",
      "metadata": {
        "id": "zsCdSvq45vaj",
        "cellView": "form"
      },
      "source": [
        "#@title Example with loops\n",
        "for i0 in range(0,2):\n",
        "  for j0 in range(0,3):\n",
        "    if x1[i0,j0] > 0.5:\n",
        "      x_empty[i0,j0] = x1[i0,j0] ** 2\n",
        "    else:\n",
        "      x_empty[i0,j0] = x1[i0,j0] ** (0.5)\n",
        "\n",
        "print(x_empty)"
      ],
      "execution_count": null,
      "outputs": []
    },
    {
      "cell_type": "markdown",
      "metadata": {
        "id": "Qc1elARE46wn"
      },
      "source": [
        "### 5.3.7. Numpy - Vectors, Row-Vectors, & Column-Vectors"
      ]
    },
    {
      "cell_type": "code",
      "metadata": {
        "id": "oaD-8QGjX2sD",
        "cellView": "form"
      },
      "source": [
        "#@title Vectors\n",
        "y1 = x1[0,:]\n",
        "\n",
        "print('y1:        \\n{}\\n'.format(y1) )\n",
        "print('y1_shape:  \\n{}\\n'.format(y1.shape) )\n"
      ],
      "execution_count": null,
      "outputs": []
    },
    {
      "cell_type": "code",
      "metadata": {
        "id": "1b6ZMNOJo3JV",
        "cellView": "form"
      },
      "source": [
        "#@title Row-vectors\n",
        "y1_rowvector = np.expand_dims(y1,axis=0)\n",
        "\n",
        "print('y1_rowvector:        \\n{}\\n'.format(y1_rowvector) )\n",
        "print('y1_rowvector_shape:  \\n{}\\n'.format(y1_rowvector.shape) )\n"
      ],
      "execution_count": null,
      "outputs": []
    },
    {
      "cell_type": "code",
      "metadata": {
        "id": "m2f-WEbko3Td",
        "cellView": "form"
      },
      "source": [
        "#@title Column-vectors\n",
        "y1_columnvector = np.expand_dims(y1,axis=1)\n",
        "\n",
        "print('y1_columnvector:        \\n{}\\n'.format(y1_columnvector) )\n",
        "print('y1_columnvector_shape:  \\n{}\\n'.format(y1_columnvector.shape) )\n"
      ],
      "execution_count": null,
      "outputs": []
    },
    {
      "cell_type": "markdown",
      "metadata": {
        "id": "A9ZsWf1W5aT7"
      },
      "source": [
        "### 5.3.8. Numpy - Array on Array Operations"
      ]
    },
    {
      "cell_type": "code",
      "metadata": {
        "id": "y1r3rHpE9n4j",
        "cellView": "form"
      },
      "source": [
        "#@title Print shapes of some arrays\n",
        "print('x1_shape:  \\n{}\\n'.format(x1.shape) )\n",
        "print('x2_shape:  \\n{}\\n'.format(x2.shape) )\n",
        "print('x3_shape:  \\n{}\\n'.format(x3.shape) )\n",
        "\n",
        "x4 = np.random.rand(4,5)\n",
        "print('x4_shape:  \\n{}\\n'.format(x4.shape) )"
      ],
      "execution_count": null,
      "outputs": []
    },
    {
      "cell_type": "code",
      "metadata": {
        "id": "ItrjQChL9W8b",
        "cellView": "form"
      },
      "source": [
        "#@title Example\n",
        "y1  = x1*x4\n",
        "y2  = np.dot(x1,x2)\n",
        "\n",
        "print('y1:        \\n{}\\n'.format(y1) )\n",
        "print('y1_shape:  \\n{}\\n'.format(y1.shape) )\n",
        "\n",
        "print('y2:        \\n{}\\n'.format(y2) )\n",
        "print('y2_shape:  \\n{}\\n'.format(y2.shape) )"
      ],
      "execution_count": null,
      "outputs": []
    },
    {
      "cell_type": "markdown",
      "metadata": {
        "id": "4NESWFle9WW6"
      },
      "source": [
        "### 5.3.8. Numpy - Array Concatenation"
      ]
    },
    {
      "cell_type": "code",
      "metadata": {
        "id": "5eKfg-dpbSEi",
        "cellView": "form"
      },
      "source": [
        "#@title Print shapes of some arrays\n",
        "print('x1_shape:  \\n{}\\n'.format(x1.shape) )\n",
        "print('x2_shape:  \\n{}\\n'.format(x2.shape) )\n",
        "print('x3_shape:  \\n{}\\n'.format(x3.shape) )\n",
        "\n",
        "x4 = np.random.rand(2,5)\n",
        "print('x4_shape:  \\n{}\\n'.format(x4.shape) )"
      ],
      "execution_count": null,
      "outputs": []
    },
    {
      "cell_type": "code",
      "metadata": {
        "id": "tGiwT-Zn_Job",
        "cellView": "form"
      },
      "source": [
        "#@title Example\n",
        "\n",
        "y1 = np.concatenate( ( x1,x4 ) , axis = 0 )\n",
        "y2 = np.concatenate( ( x1,x3 ) , axis = 1 )\n",
        "\n",
        "print('y1:        \\n{}\\n'.format(y1) )\n",
        "print('y1_shape:  \\n{}\\n'.format(y1.shape) )\n",
        "\n",
        "print('y2:        \\n{}\\n'.format(y2) )\n",
        "print('y2_shape:  \\n{}\\n'.format(y2.shape) )"
      ],
      "execution_count": null,
      "outputs": []
    },
    {
      "cell_type": "code",
      "metadata": {
        "id": "lFYn8og1H8n8",
        "cellView": "form"
      },
      "source": [
        "#@title Summarized coding \n",
        "print('case 1:  \\n{}\\n'.format(  np.concatenate( ( x1,x4 ) , axis = 0 ).shape)  )\n",
        "print('case 2:  \\n{}\\n'.format(  np.concatenate( ( x1,x3 ) , axis = 1 ).shape)  )"
      ],
      "execution_count": null,
      "outputs": []
    },
    {
      "cell_type": "markdown",
      "metadata": {
        "id": "LDkrYp7J914p"
      },
      "source": [
        "### 5.3.9. Numpy - Convert List to Array & Array to List"
      ]
    },
    {
      "cell_type": "code",
      "metadata": {
        "id": "v-SNZkEHvrAM",
        "cellView": "form"
      },
      "source": [
        "#@title Convert list to array\n",
        "my_list = [ [1,4,3.5] , [2,1,6.2] , [0,.3,8] , [2,2,1] ]\n",
        "\n",
        "print('my_list:                         \\n{}\\n'.format( my_list      ) )\n",
        "print('Number of elemenets in my_list:  \\n{}\\n'.format( len(my_list) ) )\n",
        "\n",
        "my_array = np.array(my_list)\n",
        "\n",
        "print('my_array:        \\n{}\\n'.format( my_array       )  )\n",
        "print('my_array_shape:  \\n{}\\n'.format( my_array.shape )  )\n",
        "print('my_array_type:   \\n{}\\n'.format( type(my_array) )  )\n"
      ],
      "execution_count": null,
      "outputs": []
    },
    {
      "cell_type": "code",
      "metadata": {
        "id": "F4EgLt4awVV1",
        "cellView": "form"
      },
      "source": [
        "#@title Convert array to list\n",
        "my_array = np.random.rand(5,3)\n",
        "my_list  = np.ndarray.tolist(my_array)\n",
        "\n",
        "print('my_list:                         \\n{}\\n'.format( my_list      ) )\n",
        "print('Number of elemenets in my_list:  \\n{}\\n'.format( len(my_list) ) )\n"
      ],
      "execution_count": null,
      "outputs": []
    },
    {
      "cell_type": "markdown",
      "metadata": {
        "id": "Cl1tBJSid0g-"
      },
      "source": [
        "### 5.3.10. Numpy - Save and Load Arrays, Lists, and Dictionaries"
      ]
    },
    {
      "cell_type": "code",
      "metadata": {
        "id": "9CSKNm8KbINd",
        "cellView": "form"
      },
      "source": [
        "#@title Define an array, a lists, and a dictionary\n",
        "my_array      = np.random.rand(2,6)\n",
        "my_list       = [x1, 'Hello', True]\n",
        "my_dictionary = {'key1':x1,'key2':my_array, 'key3':my_list}\n",
        "\n",
        "print('my_array:      \\n{}\\n'.format( my_array      )  )\n",
        "print('my_list:       \\n{}\\n'.format( my_list       )  )\n",
        "print('my_dictionary: \\n{}\\n'.format( my_dictionary )  )"
      ],
      "execution_count": null,
      "outputs": []
    },
    {
      "cell_type": "code",
      "metadata": {
        "id": "dfdaRb1FLBS5",
        "cellView": "form"
      },
      "source": [
        "#@title Define filenames\n",
        "filename_array       = 'data_array.npy'\n",
        "filename_list        = 'data_list.npy'\n",
        "filename_dictionary  = 'data_dictionary.npy'\n"
      ],
      "execution_count": null,
      "outputs": []
    },
    {
      "cell_type": "code",
      "metadata": {
        "id": "wuYWbUdlLH9t",
        "cellView": "form"
      },
      "source": [
        "#@title Save files\n",
        "np.save(filename_array      , my_array     ) \n",
        "np.save(filename_list       , my_list      ) \n",
        "np.save(filename_dictionary , my_dictionary) \n"
      ],
      "execution_count": null,
      "outputs": []
    },
    {
      "cell_type": "code",
      "metadata": {
        "id": "L1qL844ibI8-",
        "cellView": "form"
      },
      "source": [
        "#@title Load an array\n",
        "my_data = np.load(filename_array)\n",
        "print('my_data:           \\n{}\\n'.format( my_data )  )\n",
        "print('type of my_data:   \\n{}\\n'.format( type(my_data) )  )\n"
      ],
      "execution_count": null,
      "outputs": []
    },
    {
      "cell_type": "code",
      "metadata": {
        "id": "jijeQWwQLxl8",
        "cellView": "form"
      },
      "source": [
        "#@title Load a list\n",
        "my_data = np.load(filename_list, allow_pickle = True)\n",
        "my_data = np.ndarray.tolist(my_data)\n",
        "print('my_data:           \\n{}\\n'.format( my_data )  )\n",
        "print('type of my_data:   \\n{}\\n'.format( type(my_data) )  )\n"
      ],
      "execution_count": null,
      "outputs": []
    },
    {
      "cell_type": "code",
      "metadata": {
        "id": "sa98xdCDLxZ9",
        "cellView": "form"
      },
      "source": [
        "#@title Load a dictionary\n",
        "my_data = np.load(filename_dictionary, allow_pickle = True)\n",
        "my_data = my_data.item()\n",
        "print('my_data:           \\n{}\\n'.format( my_data )  )\n",
        "print('type of my_data:   \\n{}\\n'.format( type(my_data) )  )\n"
      ],
      "execution_count": null,
      "outputs": []
    },
    {
      "cell_type": "markdown",
      "metadata": {
        "id": "KgqrTOCziNqG"
      },
      "source": [
        "### 5.3.11. Numpy - Even More!"
      ]
    },
    {
      "cell_type": "code",
      "metadata": {
        "id": "aPEznyOKiTq5",
        "cellView": "form"
      },
      "source": [
        "#@title Online materials\n",
        "\n",
        "# Official Website: www.numpy.org \n",
        "# Look into \"repeat\" and \"reshape\" functions on your own! \n",
        "\n",
        "np.reshape\n",
        "np.repeat"
      ],
      "execution_count": null,
      "outputs": []
    },
    {
      "cell_type": "markdown",
      "metadata": {
        "id": "mqPa47dQgogK"
      },
      "source": [
        "# 5.4. Pandas\n",
        "\n",
        "---\n",
        "\n"
      ]
    },
    {
      "cell_type": "markdown",
      "metadata": {
        "id": "zouv17LGhZG8"
      },
      "source": [
        "### 5.4.1. Pandas - Load and Observe CSV Data"
      ]
    },
    {
      "cell_type": "code",
      "metadata": {
        "id": "goQWMVv-afJr",
        "cellView": "form"
      },
      "source": [
        "#@title Load .csv files\n",
        "\n",
        "data = pd.read_csv('/content/sample_data/california_housing_train.csv')\n",
        "\n",
        "print('type of my_data:   \\n{}\\n'.format( type(my_data) )  )\n"
      ],
      "execution_count": null,
      "outputs": []
    },
    {
      "cell_type": "code",
      "metadata": {
        "id": "Fx5HZdb3afGw",
        "cellView": "form"
      },
      "source": [
        "#@title Print data - ordinary mode \n",
        "print(data)"
      ],
      "execution_count": null,
      "outputs": []
    },
    {
      "cell_type": "code",
      "metadata": {
        "id": "ArfCjLnsi1d3",
        "cellView": "form"
      },
      "source": [
        "#@title Print data - fancy mode\n",
        "data"
      ],
      "execution_count": null,
      "outputs": []
    },
    {
      "cell_type": "code",
      "metadata": {
        "id": "V8QMQfRQOgyK",
        "cellView": "form"
      },
      "source": [
        "#@title Observe only head or tail\n",
        "\n",
        "#data.head()\n",
        "data.tail()"
      ],
      "execution_count": null,
      "outputs": []
    },
    {
      "cell_type": "code",
      "metadata": {
        "id": "Cb-25DPUafDz",
        "cellView": "form"
      },
      "source": [
        "#@title Get the data values in numpy format\n",
        "\n",
        "data_values = data.values\n",
        "print(\"type is {} and shape is {}\".format( type(data_values) , data_values.shape ) )\n"
      ],
      "execution_count": null,
      "outputs": []
    },
    {
      "cell_type": "markdown",
      "metadata": {
        "id": "9oz_avIHj_kb"
      },
      "source": [
        "### 5.4.2. Pandas - Indexing"
      ]
    },
    {
      "cell_type": "code",
      "metadata": {
        "id": "K2d2yNk_ae5E",
        "cellView": "form"
      },
      "source": [
        "#@title Example 1\n",
        "my_data = data.iloc[:,0:3]\n",
        "my_data"
      ],
      "execution_count": null,
      "outputs": []
    },
    {
      "cell_type": "code",
      "metadata": {
        "id": "RCRE1i-3ae2D",
        "cellView": "form"
      },
      "source": [
        "#@title Example 2\n",
        "my_data = data.iloc[:,1]\n",
        "my_data"
      ],
      "execution_count": null,
      "outputs": []
    },
    {
      "cell_type": "code",
      "metadata": {
        "id": "Bl8BPoJWaezP",
        "cellView": "form"
      },
      "source": [
        "#@title Example 3\n",
        "my_data = data.iloc[:,1:2]\n",
        "my_data"
      ],
      "execution_count": null,
      "outputs": []
    },
    {
      "cell_type": "code",
      "metadata": {
        "id": "O1A1uyTiaefk",
        "cellView": "form"
      },
      "source": [
        "#@title Example 4\n",
        "my_data = data.iloc[:,-1:]\n",
        "my_data"
      ],
      "execution_count": null,
      "outputs": []
    },
    {
      "cell_type": "code",
      "metadata": {
        "id": "V2zs_lrbQz4k",
        "cellView": "form"
      },
      "source": [
        "#@title Example 5\n",
        "my_data = data.iloc[:,0:1]\n",
        "my_data"
      ],
      "execution_count": null,
      "outputs": []
    },
    {
      "cell_type": "markdown",
      "metadata": {
        "id": "lnX9NaHWkY8M"
      },
      "source": [
        "### 5.4.3. Pandas - Even More!"
      ]
    },
    {
      "cell_type": "code",
      "metadata": {
        "id": "h8i0c86voHgb",
        "cellView": "form"
      },
      "source": [
        "#@title\n",
        "data['longitude'].values"
      ],
      "execution_count": null,
      "outputs": []
    },
    {
      "cell_type": "code",
      "metadata": {
        "id": "MWJz9FyS0jW6",
        "cellView": "form"
      },
      "source": [
        "#@title Online materials \n",
        "\n",
        "#Official Website: www.pandas.pydata.org\n",
        "#Look into how to save Pandas data frame as a CSV file on your own!"
      ],
      "execution_count": null,
      "outputs": []
    },
    {
      "cell_type": "markdown",
      "metadata": {
        "id": "ISl4yRGv3WPF"
      },
      "source": [
        "# Lecture 05: Numpy and Pandas for Data Processing\n",
        "In this lecture, you learned about:\n",
        "1. How to import Numpy and Pandas in Python\n",
        "2. How to implement Numpy and Pandas to some extent\n",
        "3. How to load and save data in Python using Numpy\n",
        "\n",
        "***In the next lecture, we will learn about Matplotlib and Seaborn for Data Visualizations***\n",
        "\n"
      ]
    }
  ]
}