{
  "nbformat": 4,
  "nbformat_minor": 0,
  "metadata": {
    "colab": {
      "name": "Python04.ipynb",
      "provenance": [],
      "collapsed_sections": [],
      "toc_visible": true
    },
    "kernelspec": {
      "name": "python3",
      "display_name": "Python 3"
    }
  },
  "cells": [
    {
      "cell_type": "markdown",
      "metadata": {
        "id": "MzPbh5XSzjQd"
      },
      "source": [
        "# Lecture 04: Loops, Conditional Scripts, and Functions\n",
        "By the end of this lecture, you will be able to:\n",
        "1. Define \"for\" loops in Python\n",
        "2. Create conditional statements using \"if,\" \"elif,\" and \"else\"\n",
        "3. Create functions in Python"
      ]
    },
    {
      "cell_type": "markdown",
      "metadata": {
        "id": "UM2NFQ7mmU02"
      },
      "source": [
        "# 4.1. Loops\n",
        "\n",
        "---\n",
        "\n"
      ]
    },
    {
      "cell_type": "code",
      "metadata": {
        "id": "ie9uAS9AFhFQ",
        "cellView": "form"
      },
      "source": [
        "#@title Loop over elements of a list\n",
        "my_list_01 = [3,1,7,3,9,1]\n",
        "my_list_02 = []\n",
        "\n",
        "for i0 in my_list_01:\n",
        "  my_list_02.append(i0 ** 2)\n",
        "  print(my_list_02)"
      ],
      "execution_count": null,
      "outputs": []
    },
    {
      "cell_type": "code",
      "metadata": {
        "id": "LXKYVh2-ICvw",
        "cellView": "form"
      },
      "source": [
        "#@title Loop using built-in function 'range' \n",
        "for i0 in range(0, 5, 1):\n",
        "  print(i0)\n",
        "\n",
        "print('.....')\n",
        "\n",
        "for i0 in range(3, -10, -2):\n",
        "  print(i0)"
      ],
      "execution_count": null,
      "outputs": []
    },
    {
      "cell_type": "markdown",
      "metadata": {
        "id": "RGmFuOGRmhmg"
      },
      "source": [
        "# 4.2. Conditional Statements\n",
        "\n",
        "---\n",
        "\n"
      ]
    },
    {
      "cell_type": "code",
      "metadata": {
        "id": "S0BMxsAwICkN",
        "cellView": "form"
      },
      "source": [
        "#@title Develop conditional statements\n",
        "#x = 45\n",
        "#x = 42\n",
        "x = 41\n",
        "\n",
        "if x%2 == 0:\n",
        "  print(\"{} is dividable by '2'\".format(x))\n",
        "elif x%3 == 0 and x%5 == 0:\n",
        "  print(\"{} is NOT dividable by '2', but is dividable by '3' and '5' \".format(x))\n",
        "else:\n",
        "  print('We have no comment regarding {}'.format(x))"
      ],
      "execution_count": null,
      "outputs": []
    },
    {
      "cell_type": "markdown",
      "metadata": {
        "id": "c5niTMfvm0SZ"
      },
      "source": [
        "# 4.3. Functions\n",
        "\n",
        "---\n",
        "\n"
      ]
    },
    {
      "cell_type": "markdown",
      "metadata": {
        "id": "ejcbZV6UpIq0"
      },
      "source": [
        "### 4.3.1. Functions - Example with Conditional Statements"
      ]
    },
    {
      "cell_type": "code",
      "metadata": {
        "id": "-JuVqRHlICZ4",
        "cellView": "form"
      },
      "source": [
        "#@title Develop a function\n",
        "def fun_test_01(x):\n",
        "  if x%2 == 0:\n",
        "    print(\"{} is dividable by '2'\".format(x))\n",
        "  elif x%3 == 0 and x%5 == 0:\n",
        "    print(\"{} is NOT dividable by '2', but is dividable by '3' and '5' \".format(x))\n",
        "  else:\n",
        "    print('We have no comment regarding {}'.format(x))\n"
      ],
      "execution_count": null,
      "outputs": []
    },
    {
      "cell_type": "code",
      "metadata": {
        "id": "B6zvg63oICPs",
        "cellView": "form"
      },
      "source": [
        "#@title Call the function\n",
        "#fun_test_01(45)\n",
        "#fun_test_01(42)\n",
        "fun_test_01(41)"
      ],
      "execution_count": null,
      "outputs": []
    },
    {
      "cell_type": "markdown",
      "metadata": {
        "id": "AZfjfCycpKgE"
      },
      "source": [
        "### 4.3.2. Functions - Example with Loop and Conditional Statements"
      ]
    },
    {
      "cell_type": "code",
      "metadata": {
        "id": "XbR_iQZGICG0",
        "cellView": "form"
      },
      "source": [
        "#@title Develop a function\n",
        "def fun_test_02(start_val = 0, stop_val = 10, step_val = 1):\n",
        "  for i0 in range(start_val, stop_val, step_val):\n",
        "    if i0%4 == 0:\n",
        "      print(\"{} is dividable by '4'\".format(i0))\n",
        "    elif i0%2 == 0:\n",
        "      print(\"{} is NOT dividable by '4' but is dividable by 2\".format(i0))\n",
        "    else:\n",
        "      print('we have no comment for {}'.format(i0))\n"
      ],
      "execution_count": null,
      "outputs": []
    },
    {
      "cell_type": "code",
      "metadata": {
        "id": "cBjnT1g5NlGj",
        "cellView": "form"
      },
      "source": [
        "#@title Call the function\n",
        "fun_test_02(start_val = -5, stop_val = 20)"
      ],
      "execution_count": null,
      "outputs": []
    },
    {
      "cell_type": "markdown",
      "metadata": {
        "id": "U3fHT-k0pTms"
      },
      "source": [
        "### 4.3.3. Functions - Example with Outputs to be Returned"
      ]
    },
    {
      "cell_type": "code",
      "metadata": {
        "id": "vHjDEU3ONleV",
        "cellView": "form"
      },
      "source": [
        "#@title Develop a function with outputs \n",
        "def fun_test_03(x,y):\n",
        "  if x%y == 0:\n",
        "    output_01 = x**y\n",
        "    output_02 = x/y\n",
        "  else:\n",
        "    output_01 = 'N/A'\n",
        "    output_02 = 'N/A'\n",
        "\n",
        "  return output_01, output_02"
      ],
      "execution_count": null,
      "outputs": []
    },
    {
      "cell_type": "code",
      "metadata": {
        "id": "Fbkzpp8xNk4W",
        "cellView": "form"
      },
      "source": [
        "#@title Call the function\n",
        "output_01, output_02 = fun_test_03(24,5)\n",
        "print(output_01, output_02)"
      ],
      "execution_count": null,
      "outputs": []
    },
    {
      "cell_type": "markdown",
      "metadata": {
        "id": "NNTViVF0P4O5"
      },
      "source": [
        "# Lecture 04: Loops, Conditional Scripts, & Functions\n",
        "In this lecture, you learned about:\n",
        "1. How to define \"for\" loops in Python\n",
        "2. How to create conditional statements using \"if,\" \"elif,\" and \"else\"\n",
        "3. How to create functions in Python\n",
        "\n",
        "\n",
        "***In the next lecture, we will learn about Numpy and Pandas for Data Processing***"
      ]
    }
  ]
}