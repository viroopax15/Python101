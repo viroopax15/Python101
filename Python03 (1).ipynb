{
  "nbformat": 4,
  "nbformat_minor": 0,
  "metadata": {
    "colab": {
      "name": "Python03.ipynb",
      "provenance": [],
      "collapsed_sections": [],
      "toc_visible": true
    },
    "kernelspec": {
      "name": "python3",
      "display_name": "Python 3"
    }
  },
  "cells": [
    {
      "cell_type": "markdown",
      "metadata": {
        "id": "wg9hFWlA7QHU"
      },
      "source": [
        "# Lecture 03: Operations, Built-in Functions, and Data Types\n",
        "By the end of this lecture, you will be able to:\n",
        "1. Describe some Python built-in functions\n",
        "2. Create Python lists, tuples, and dictionaries\n",
        "3. Call elements of Python lists, tuples, and dictionaries\n",
        "4. Create strings and print information\n",
        "5. Perform basic mathematics in Python"
      ]
    },
    {
      "cell_type": "markdown",
      "metadata": {
        "id": "MVJ-zJ7MqPDV"
      },
      "source": [
        "# 3.1. Commenting and Some Built-in Functions\n",
        "\n",
        "---\n",
        "\n"
      ]
    },
    {
      "cell_type": "code",
      "metadata": {
        "id": "0Yt7fprVddIA",
        "cellView": "form"
      },
      "source": [
        "#@title Commenting\n",
        "# Hello Everybody "
      ],
      "execution_count": null,
      "outputs": []
    },
    {
      "cell_type": "code",
      "metadata": {
        "id": "eJAQjXlkLLId",
        "cellView": "form"
      },
      "source": [
        "#@title Built-in function \"print\"\n",
        "# Hello Everybody \n",
        "print('')"
      ],
      "execution_count": null,
      "outputs": []
    },
    {
      "cell_type": "code",
      "metadata": {
        "id": "wF0-KZze0LS-",
        "cellView": "form"
      },
      "source": [
        "#@title Print strings\n",
        "# Hello Everybody \n",
        "print('Hello World')"
      ],
      "execution_count": null,
      "outputs": []
    },
    {
      "cell_type": "code",
      "metadata": {
        "id": "7iJZHZOE0dqH",
        "cellView": "form"
      },
      "source": [
        "#@title Print last line (integer example)\n",
        "# Hello Everybody \n",
        "print('Hello World')\n",
        "23"
      ],
      "execution_count": null,
      "outputs": []
    },
    {
      "cell_type": "code",
      "metadata": {
        "id": "QG7pBLLy0eAv",
        "cellView": "form"
      },
      "source": [
        "#@title Print last line (string example)\n",
        "# Hello Everybody \n",
        "print('Hello World')\n",
        "23\n",
        "'Hello World'"
      ],
      "execution_count": null,
      "outputs": []
    },
    {
      "cell_type": "code",
      "metadata": {
        "id": "24hdFyZWKppU",
        "cellView": "form"
      },
      "source": [
        "#@title Built-in function \"type\"\n",
        "type('Bravo')"
      ],
      "execution_count": null,
      "outputs": []
    },
    {
      "cell_type": "code",
      "metadata": {
        "id": "N9FgVAN_Jq0p",
        "cellView": "form"
      },
      "source": [
        "#@title Print examples\n",
        "print(type(23))\n",
        "print(type(True), type(False), 'Python is fun', 78.4547)"
      ],
      "execution_count": null,
      "outputs": []
    },
    {
      "cell_type": "code",
      "metadata": {
        "id": "J_2wW5LjJr4a",
        "cellView": "form"
      },
      "source": [
        "#@title Print examples\n",
        "print(\"My name is {}, my number is {}, and my number type is {}\".format('John', 23, type(23)   )   )\n"
      ],
      "execution_count": null,
      "outputs": []
    },
    {
      "cell_type": "markdown",
      "metadata": {
        "id": "d2cB0ALJrnT9"
      },
      "source": [
        "# 3.2. Simple Mathematics and Variable Assignments\n",
        "\n",
        "---\n",
        "\n"
      ]
    },
    {
      "cell_type": "code",
      "metadata": {
        "id": "VPC2zF1UJoNo",
        "cellView": "form"
      },
      "source": [
        "#@title Simple mathematics\n",
        "(2/4*5+(3*7+2)**3)**(0.5)"
      ],
      "execution_count": null,
      "outputs": []
    },
    {
      "cell_type": "code",
      "metadata": {
        "id": "znMSQTFvzbCg",
        "cellView": "form"
      },
      "source": [
        "#@title Variable assignments and naming\n",
        "x = 2 + 2.43\n",
        "y = 2/5\n",
        "z = 2!=4\n",
        "u = 3>2.3\n",
        "v = 2/5 == 0.5\n",
        "z = 2>4 or 3>1\n",
        "t = 2>4 and 3>1 or z\n",
        "\n",
        "wQ_W_01_2 = x*y\n",
        "\n",
        "print(x, y , z , u, v, z, t, wQ_W_01_2)\n",
        "print('.....')\n",
        "\n",
        "print(\"The values of x is {} and y '{}'\".format(x, y))\n",
        "print('.....')"
      ],
      "execution_count": null,
      "outputs": []
    },
    {
      "cell_type": "markdown",
      "metadata": {
        "id": "39GRudwOs4vB"
      },
      "source": [
        "# 3.3. Lists\n",
        "\n",
        "---\n",
        "\n"
      ]
    },
    {
      "cell_type": "markdown",
      "metadata": {
        "id": "AgVSShNqKqJL"
      },
      "source": [
        "### 3.3.1. Lists - Definition"
      ]
    },
    {
      "cell_type": "code",
      "metadata": {
        "id": "3zMIYSBsOJ8A",
        "cellView": "form"
      },
      "source": [
        "#@title Develop a list\n",
        "my_list = [ , , ]\n",
        "my_list"
      ],
      "execution_count": null,
      "outputs": []
    },
    {
      "cell_type": "code",
      "metadata": {
        "id": "-WAP_02uYtR5",
        "cellView": "form"
      },
      "source": [
        "#@title Examples \n",
        "my_list = [1,'Bravo',True, 3.32123123, 2/45, 1!=6, 'My Number is {}'.format(2), [1,x, True, 'Hello Students']  ]\n",
        "print(\"This is my list: \\n{}\".format(my_list))"
      ],
      "execution_count": null,
      "outputs": []
    },
    {
      "cell_type": "markdown",
      "metadata": {
        "id": "m8MrfmTfJ_Ii"
      },
      "source": [
        "### 3.3.2. Lists - Indexing"
      ]
    },
    {
      "cell_type": "code",
      "metadata": {
        "id": "dBXxtYt3Y7SM",
        "cellView": "form"
      },
      "source": [
        "#@title Different ways of indexing\n",
        "x = my_list[0]\n",
        "y = my_list[2]\n",
        "z = my_list[-1] \n",
        "u = my_list[0:3]\n",
        "v = my_list[3:]\n",
        "t = my_list[:2]\n",
        "w = my_list[-3:-1]\n",
        "q = my_list[-1][2]"
      ],
      "execution_count": null,
      "outputs": []
    },
    {
      "cell_type": "code",
      "metadata": {
        "id": "aY6aoT0LOs92",
        "cellView": "form"
      },
      "source": [
        "#@title Print variables \n",
        "print('x is: ', x)\n",
        "print('y is: ', y)\n",
        "print('z is: ', z)\n",
        "print('u is: ', u)\n",
        "print('v is: ', v)\n",
        "print('t is: ', t)\n",
        "print('w is: ', w)\n",
        "print('q is: ', q)"
      ],
      "execution_count": null,
      "outputs": []
    },
    {
      "cell_type": "markdown",
      "metadata": {
        "id": "LiH1r5PAKFte"
      },
      "source": [
        "### 3.3.3. Lists - Appending"
      ]
    },
    {
      "cell_type": "code",
      "metadata": {
        "id": "qy8DHykdw-i3",
        "cellView": "form"
      },
      "source": [
        "#@title Appending example\n",
        "my_list.append('lists are appendable!')\n",
        "print(my_list)"
      ],
      "execution_count": null,
      "outputs": []
    },
    {
      "cell_type": "markdown",
      "metadata": {
        "id": "917EdLWcwIuR"
      },
      "source": [
        "# 3.4. Tuples\n",
        "\n",
        "---\n",
        "\n"
      ]
    },
    {
      "cell_type": "markdown",
      "metadata": {
        "id": "nmBM5YT1K4JW"
      },
      "source": [
        "### 3.4.1. Tuples - Definition"
      ]
    },
    {
      "cell_type": "code",
      "metadata": {
        "id": "vhGplHfLPv6p",
        "cellView": "form"
      },
      "source": [
        "#@title Develop a tuple\n",
        "my_tuple = ( , , )"
      ],
      "execution_count": null,
      "outputs": []
    },
    {
      "cell_type": "code",
      "metadata": {
        "id": "G74e6YlT0RQJ",
        "cellView": "form"
      },
      "source": [
        "#@title Examples\n",
        "my_tuple = (1,'Bravo',True,  'My Number is {}'.format(2), [1,x, True, 'Hello Students'])\n",
        "print(\"This is my tuple: \\n{}\".format(my_tuple))"
      ],
      "execution_count": null,
      "outputs": []
    },
    {
      "cell_type": "markdown",
      "metadata": {
        "id": "CmQK84BFKQ8e"
      },
      "source": [
        "### 3.4.2. Tuples - Indexing"
      ]
    },
    {
      "cell_type": "code",
      "metadata": {
        "id": "u6Ga6WIP0xmh",
        "cellView": "form"
      },
      "source": [
        "#@title Different ways of indexing\n",
        "x = my_tuple[0]\n",
        "y = my_tuple[2]\n",
        "z = my_tuple[-1] \n",
        "u = my_tuple[0:3]\n",
        "v = my_tuple[3:]\n",
        "t = my_tuple[:2]\n",
        "w = my_tuple[-3:-1]\n",
        "q = my_tuple[-1][2]"
      ],
      "execution_count": null,
      "outputs": []
    },
    {
      "cell_type": "code",
      "metadata": {
        "id": "KvdMDdQ6QbhN",
        "cellView": "form"
      },
      "source": [
        "#@title Print variables\n",
        "print('x is: ', x)\n",
        "print('y is: ', y)\n",
        "print('z is: ', z)\n",
        "print('u is: ', u)\n",
        "print('v is: ', v)\n",
        "print('t is: ', t)\n",
        "print('w is: ', w)\n",
        "print('q is: ', q)"
      ],
      "execution_count": null,
      "outputs": []
    },
    {
      "cell_type": "markdown",
      "metadata": {
        "id": "HWUlK8onKXhV"
      },
      "source": [
        "### 3.4.3. Tuples - Appending"
      ]
    },
    {
      "cell_type": "code",
      "metadata": {
        "id": "wCGqrbMpyHUp",
        "cellView": "form"
      },
      "source": [
        "#@title Tuples are not appendable!\n",
        "# Tuples are not appendable!"
      ],
      "execution_count": null,
      "outputs": []
    },
    {
      "cell_type": "code",
      "metadata": {
        "id": "ERNaR7Si1Mt3",
        "cellView": "form"
      },
      "source": [
        "#@title Append a tuple into a list \n",
        "my_list.append(my_tuple)\n",
        "my_list"
      ],
      "execution_count": null,
      "outputs": []
    },
    {
      "cell_type": "markdown",
      "metadata": {
        "id": "KL7JAxc_Q6jN"
      },
      "source": [
        "# 3.5. More Built-in Functions\n",
        "\n",
        "---"
      ]
    },
    {
      "cell_type": "code",
      "metadata": {
        "id": "v-r16chTRH9Q",
        "cellView": "form"
      },
      "source": [
        "#@title Built-in function \"list\"\n",
        "my_list_2 = list(my_tuple)\n",
        "my_list_2"
      ],
      "execution_count": null,
      "outputs": []
    },
    {
      "cell_type": "code",
      "metadata": {
        "id": "mKZchLPWRITk",
        "cellView": "form"
      },
      "source": [
        "#@title Built-in function \"tuple\"\n",
        "my_tuple_2 = tuple(my_list)\n",
        "my_tuple_2"
      ],
      "execution_count": null,
      "outputs": []
    },
    {
      "cell_type": "code",
      "metadata": {
        "id": "c9frcpAtRyFL",
        "cellView": "form"
      },
      "source": [
        "#@title Built-in function \"len\"\n",
        "my_list_size  = len(my_list)\n",
        "my_tuple_size = len(my_tuple)\n",
        "\n",
        "print(\"Number of elemenets of my list is {}\".format(my_list_size))\n",
        "print(\"Number of elemenets of my tuple is {}\".format(my_tuple_size))"
      ],
      "execution_count": null,
      "outputs": []
    },
    {
      "cell_type": "markdown",
      "metadata": {
        "id": "FprW-hMMydlI"
      },
      "source": [
        "# 3.6. Dictionaries\n",
        "\n",
        "---\n",
        "\n"
      ]
    },
    {
      "cell_type": "markdown",
      "metadata": {
        "id": "cJNG1CfTLAKw"
      },
      "source": [
        "### 3.6.1. Dictionaries - Definition"
      ]
    },
    {
      "cell_type": "code",
      "metadata": {
        "id": "LgCwA4tZTH_T",
        "cellView": "form"
      },
      "source": [
        "#@title Develop a dictionary\n",
        "my_dictionary = { : , : , : }"
      ],
      "execution_count": null,
      "outputs": []
    },
    {
      "cell_type": "code",
      "metadata": {
        "id": "hs_X_HVr1fga",
        "cellView": "form"
      },
      "source": [
        "#@title Examples\n",
        "my_dictionary = {'key_name_1' : my_list, 'key_name_2':my_tuple, 'key_name_3': type(23)}\n",
        "my_dictionary"
      ],
      "execution_count": null,
      "outputs": []
    },
    {
      "cell_type": "markdown",
      "metadata": {
        "id": "TROBe1U_Kkis"
      },
      "source": [
        "### 3.6.2. Dictionaries - Keys"
      ]
    },
    {
      "cell_type": "code",
      "metadata": {
        "id": "uMEg3gya17t9",
        "cellView": "form"
      },
      "source": [
        "#@title Built-in \"key\" function\n",
        "my_dictionary_keys = my_dictionary.keys()\n",
        "print(\"my_dictionary_keys are: \\n{}\".format(my_dictionary_keys))"
      ],
      "execution_count": null,
      "outputs": []
    },
    {
      "cell_type": "code",
      "metadata": {
        "id": "PU_d0yWFWUcw",
        "cellView": "form"
      },
      "source": [
        "#@title List of keys\n",
        "my_dictionary_keys = list(my_dictionary_keys)\n",
        "print(\"my_dictionary_keys are: \\n{}\".format(my_dictionary_keys))"
      ],
      "execution_count": null,
      "outputs": []
    },
    {
      "cell_type": "code",
      "metadata": {
        "id": "TS7pi4Si2Ob2",
        "cellView": "form"
      },
      "source": [
        "#@title Indexing by key string\n",
        "my_dictionary['key_name_2']"
      ],
      "execution_count": null,
      "outputs": []
    },
    {
      "cell_type": "code",
      "metadata": {
        "id": "hWntfcjeUcSj",
        "cellView": "form"
      },
      "source": [
        "#@title Indexing by element of key list\n",
        "my_dictionary[my_dictionary_keys[1]]"
      ],
      "execution_count": null,
      "outputs": []
    },
    {
      "cell_type": "markdown",
      "metadata": {
        "id": "ISl4yRGv3WPF"
      },
      "source": [
        "# Lecture 03: Operations, Built-in Functions, and Data Types\n",
        "In this lecture, you learned about:\n",
        "1. Some Python built-in functions\n",
        "2. How to create Python lists, tuples, and dictionaries\n",
        "3. How to call elements of python lists, tuples, and dictionaries\n",
        "4. How to create strings and print information\n",
        "5. How to perform basic mathematics in Python\n",
        "\n",
        "***In the next lecture, we will learn about Loops, Conditional Scripts, and Functions***"
      ]
    }
  ]
}