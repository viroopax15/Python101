{
  "nbformat": 4,
  "nbformat_minor": 0,
  "metadata": {
    "colab": {
      "name": "Python06.ipynb",
      "provenance": [],
      "collapsed_sections": [],
      "toc_visible": true
    },
    "kernelspec": {
      "name": "python3",
      "display_name": "Python 3"
    }
  },
  "cells": [
    {
      "cell_type": "markdown",
      "metadata": {
        "id": "wg9hFWlA7QHU"
      },
      "source": [
        "# Lecture 06: Matplotlib and Seaborn for Data Visualizations\n",
        "By the end of this lecture, you will be able to:\n",
        "1. Import and implement Matplotlib library in Python to visualize data\n",
        "2. Import and implement Seaborn library in Python to visualize data"
      ]
    },
    {
      "cell_type": "markdown",
      "metadata": {
        "id": "NngGFoluMzIR"
      },
      "source": [
        "# 6.1. Import Libraries\n",
        "\n",
        "---\n",
        "\n"
      ]
    },
    {
      "cell_type": "code",
      "metadata": {
        "id": "XGALV8J9PPYe",
        "cellView": "form"
      },
      "source": [
        "#@title Import\n",
        "import pandas as pd\n",
        "import numpy as np\n",
        "\n",
        "import matplotlib as mtl\n",
        "import seaborn as sns"
      ],
      "execution_count": null,
      "outputs": []
    },
    {
      "cell_type": "markdown",
      "metadata": {
        "id": "qG-MfJmqNIwN"
      },
      "source": [
        "# 6.2. Plots\n",
        "\n",
        "---\n",
        "\n"
      ]
    },
    {
      "cell_type": "markdown",
      "metadata": {
        "id": "j_W4wCetSlyj"
      },
      "source": [
        "### 6.2.1. Plots - Numpy Arrays"
      ]
    },
    {
      "cell_type": "code",
      "metadata": {
        "id": "olLbYVtlj2xf",
        "cellView": "form"
      },
      "source": [
        "#@title Examples\n",
        "x = np.linspace(0, 1, 50) * np.pi * 2\n",
        "y = np.sin(x)\n",
        "\n",
        "mtl.pyplot.figure(figsize=[5,5])\n",
        "mtl.pyplot.plot(x,y,'-r') # r, b, g, k\n",
        "\n",
        "mtl.pyplot.figure(figsize=[5,5])\n",
        "mtl.pyplot.plot(x,y,'.r')"
      ],
      "execution_count": null,
      "outputs": []
    },
    {
      "cell_type": "markdown",
      "metadata": {
        "id": "VTs93-jJS1vP"
      },
      "source": [
        "### 6.2.2. Plots - Pandas Data Frame"
      ]
    },
    {
      "cell_type": "code",
      "metadata": {
        "id": "QON8_V9zcUm6",
        "cellView": "form"
      },
      "source": [
        "#@title Load data\n",
        "data = pd.read_csv('/content/sample_data/california_housing_train.csv')\n",
        "data.head()"
      ],
      "execution_count": null,
      "outputs": []
    },
    {
      "cell_type": "code",
      "metadata": {
        "id": "aQVslmwygxyZ",
        "cellView": "form"
      },
      "source": [
        "#@title Get the keys\n",
        "data_keys = list(data.keys())\n",
        "print( 'data_keys:    \\n{}\\n'.format(data_keys) )"
      ],
      "execution_count": null,
      "outputs": []
    },
    {
      "cell_type": "code",
      "metadata": {
        "id": "7PUiaL7TcUsX",
        "cellView": "form"
      },
      "source": [
        "#@title Multiple plots in one figure\n",
        "mtl.pyplot.figure(figsize=[5,5])\n",
        "\n",
        "mtl.pyplot.plot( data.iloc[:100,5], data.iloc[:100,3], 'b*', markersize = 7) # population vs total rooms\n",
        "mtl.pyplot.plot( data.iloc[:100,5], data.iloc[:100,4], 'ro', markersize = 5) # population vs total bedrooms \n",
        "mtl.pyplot.plot( [0,3500]         , [0,8000],          'k-', linewidth  = 3) # some line\n",
        "\n",
        "mtl.pyplot.xlabel( data_keys[5]                         , fontsize = 14)\n",
        "mtl.pyplot.ylabel( data_keys[3]  + ' or ' + data_keys[4], fontsize = 14)\n",
        "\n",
        "mtl.pyplot.legend( [data_keys[5] + ' vs ' + data_keys[3], data_keys[5] + ' vs ' + data_keys[4], 'some line'], fontsize = 14 )\n",
        "\n",
        "# Look online and see how we can use uppercase letters in our xlabels and ylabels"
      ],
      "execution_count": null,
      "outputs": []
    },
    {
      "cell_type": "markdown",
      "metadata": {
        "id": "KMQqvPR7TR9N"
      },
      "source": [
        "# 6.3. Histograms\n",
        "\n",
        "---\n",
        "\n"
      ]
    },
    {
      "cell_type": "code",
      "metadata": {
        "id": "M1RjpN5_cVEE",
        "cellView": "form"
      },
      "source": [
        "#@title Example 1\n",
        "sns.distplot(data.iloc[:,0])"
      ],
      "execution_count": null,
      "outputs": []
    },
    {
      "cell_type": "code",
      "metadata": {
        "id": "tZ7IP65aTnaP",
        "cellView": "form"
      },
      "source": [
        "#@title Example 2\n",
        "sns.distplot(data.iloc[:,0], kde = False, bins = 5)"
      ],
      "execution_count": null,
      "outputs": []
    },
    {
      "cell_type": "code",
      "metadata": {
        "id": "ppFFJrENcVhf",
        "cellView": "form"
      },
      "source": [
        "#@title Example 3\n",
        "sns.pairplot(data.iloc[:100,3:6])"
      ],
      "execution_count": null,
      "outputs": []
    },
    {
      "cell_type": "markdown",
      "metadata": {
        "id": "ISl4yRGv3WPF"
      },
      "source": [
        "# Lecture 06: Matplotlib and Seaborn for Data Visualizations\n",
        "In this lecture, you learned about:\n",
        "1. How to import and implement Matplotlib library in Python to visualize data\n",
        "2. How to import and implement Seaborn library in Python to visualize data\n",
        "\n",
        "***In the next lecture, we will learn about Data Repositories and Data Split in Machine Learning***"
      ]
    }
  ]
}